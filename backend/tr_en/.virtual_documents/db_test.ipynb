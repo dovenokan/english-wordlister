import sqlite3


conn = sqlite3.connect("./db/en_tr_sozluk.db")
cursor = conn.cursor()


cursor.execute("SELECT * FROM sqlite_master WHERE type='table';")
tables = cursor.fetchall()
for table in tables:
    print(table[0])


conn.cursor.execute("select * from sozluk")




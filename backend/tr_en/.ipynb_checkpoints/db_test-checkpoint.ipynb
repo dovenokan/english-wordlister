{
 "cells": [
  {
   "cell_type": "code",
   "execution_count": 11,
   "id": "494f4620-a47f-45df-a15e-ef0f4797a328",
   "metadata": {},
   "outputs": [],
   "source": [
    "import sqlite3"
   ]
  },
  {
   "cell_type": "code",
   "execution_count": 12,
   "id": "7c60d46f-c64c-4a8f-a0ac-0741a699cc92",
   "metadata": {},
   "outputs": [],
   "source": [
    "conn = sqlite3.connect(\"./db/en_tr_sozluk.db\")\n",
    "cursor = conn.cursor()"
   ]
  },
  {
   "cell_type": "code",
   "execution_count": 21,
   "id": "b6569c26-de6f-4aa5-907c-bf5b3e7f91fe",
   "metadata": {},
   "outputs": [
    {
     "name": "stdout",
     "output_type": "stream",
     "text": [
      "('allege', 'irat etmek, iddia etmek, ileri sürmek')\n"
     ]
    }
   ],
   "source": [
    "cursor.execute(\"select * from sozluk where en='allege' limit 5 \")\n",
    "tables = cursor.fetchall()\n",
    "for i in tables:\n",
    "    print(i)"
   ]
  },
  {
   "cell_type": "code",
   "execution_count": null,
   "id": "8b60351b-0f88-458e-8574-6957e7c104b4",
   "metadata": {},
   "outputs": [],
   "source": []
  },
  {
   "cell_type": "code",
   "execution_count": null,
   "id": "c2ab7dc4-57d8-45e7-939e-7d4fd9cdcb65",
   "metadata": {},
   "outputs": [],
   "source": []
  }
 ],
 "metadata": {
  "kernelspec": {
   "display_name": "Python 3 (ipykernel)",
   "language": "python",
   "name": "python3"
  },
  "language_info": {
   "codemirror_mode": {
    "name": "ipython",
    "version": 3
   },
   "file_extension": ".py",
   "mimetype": "text/x-python",
   "name": "python",
   "nbconvert_exporter": "python",
   "pygments_lexer": "ipython3",
   "version": "3.11.7"
  }
 },
 "nbformat": 4,
 "nbformat_minor": 5
}
